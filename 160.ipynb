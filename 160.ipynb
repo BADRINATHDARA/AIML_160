{
 "cells": [
  {
   "cell_type": "code",
   "execution_count": 1,
   "id": "304e0751-37b2-4d69-a275-dfce2bc643f0",
   "metadata": {},
   "outputs": [],
   "source": [
    "lst1 = [1,2,3,4,5,6,7,8,9]"
   ]
  },
  {
   "cell_type": "code",
   "execution_count": 3,
   "id": "924b8786-a603-4718-a3a8-9e902be300f1",
   "metadata": {},
   "outputs": [
    {
     "name": "stdout",
     "output_type": "stream",
     "text": [
      "{1, 2, 3, 4, 5, 6, 7, 8, 9}\n",
      "<class 'set'>\n"
     ]
    }
   ],
   "source": [
    "s2 = set(lst1)\n",
    "print(s2)\n",
    "print(type(s2))\n"
   ]
  },
  {
   "cell_type": "code",
   "execution_count": 5,
   "id": "24def351-e8c3-4999-9d39-16d30b1e1098",
   "metadata": {},
   "outputs": [],
   "source": [
    "s1 = {1,2,3,4}\n",
    "s2 = {5,6,7,8,}"
   ]
  },
  {
   "cell_type": "code",
   "execution_count": 7,
   "id": "4e3892a6-69ea-430f-b8f7-bc9860906b70",
   "metadata": {},
   "outputs": [
    {
     "data": {
      "text/plain": [
       "{1, 2, 3, 4, 5, 6, 7, 8}"
      ]
     },
     "execution_count": 7,
     "metadata": {},
     "output_type": "execute_result"
    }
   ],
   "source": [
    "s1 | s2"
   ]
  },
  {
   "cell_type": "code",
   "execution_count": 13,
   "id": "6e06999f-c033-40d3-88c3-fd5d02b2bad1",
   "metadata": {},
   "outputs": [],
   "source": [
    "s1 = {1,2,3,4}\n",
    "s2 = {5,6,7,8,}"
   ]
  },
  {
   "cell_type": "code",
   "execution_count": 17,
   "id": "e7714831-b365-4826-8a54-a41fb27457eb",
   "metadata": {},
   "outputs": [
    {
     "data": {
      "text/plain": [
       "set()"
      ]
     },
     "execution_count": 17,
     "metadata": {},
     "output_type": "execute_result"
    }
   ],
   "source": [
    "s1&s2"
   ]
  },
  {
   "cell_type": "code",
   "execution_count": 19,
   "id": "580bea82-0765-4360-be84-1892bd074afe",
   "metadata": {},
   "outputs": [],
   "source": [
    "s1 = {2,3,4,5,6,7}\n",
    "s2 = {5,6,7}"
   ]
  },
  {
   "cell_type": "code",
   "execution_count": 21,
   "id": "31d09013-c0c3-4aa9-b35c-3b7eebe203e4",
   "metadata": {},
   "outputs": [
    {
     "data": {
      "text/plain": [
       "{2, 3, 4}"
      ]
     },
     "execution_count": 21,
     "metadata": {},
     "output_type": "execute_result"
    }
   ],
   "source": [
    "s1 - s2"
   ]
  },
  {
   "cell_type": "code",
   "execution_count": 28,
   "id": "de342b90-e23f-4083-b02e-24a4072efc28",
   "metadata": {},
   "outputs": [
    {
     "data": {
      "text/plain": [
       "set()"
      ]
     },
     "execution_count": 28,
     "metadata": {},
     "output_type": "execute_result"
    }
   ],
   "source": [
    "s2 - s1"
   ]
  },
  {
   "cell_type": "code",
   "execution_count": 30,
   "id": "352d4e52-4dc9-4111-855f-e61156cb0365",
   "metadata": {},
   "outputs": [],
   "source": [
    "s1 = {1,2,3,4,5}\n",
    "s2 = {4,5,6,7,8}"
   ]
  },
  {
   "cell_type": "code",
   "execution_count": 32,
   "id": "ed478b8c-5fd2-404e-83c2-f1df7db4fbcc",
   "metadata": {},
   "outputs": [
    {
     "data": {
      "text/plain": [
       "{1, 2, 3, 6, 7, 8}"
      ]
     },
     "execution_count": 32,
     "metadata": {},
     "output_type": "execute_result"
    }
   ],
   "source": [
    "s1.symmetric_difference(s2)"
   ]
  },
  {
   "cell_type": "code",
   "execution_count": 34,
   "id": "6b440a39-4f29-4026-97cc-75676632f912",
   "metadata": {},
   "outputs": [
    {
     "data": {
      "text/plain": [
       "{1, 2, 3, 6, 7, 8}"
      ]
     },
     "execution_count": 34,
     "metadata": {},
     "output_type": "execute_result"
    }
   ],
   "source": [
    "s2.symmetric_difference(s1)\n"
   ]
  },
  {
   "cell_type": "code",
   "execution_count": 36,
   "id": "ffa90914-5976-4492-ba22-d09f1ca274f0",
   "metadata": {},
   "outputs": [],
   "source": [
    "s1 = {1,2,3,4,5}\n",
    "s2 = {1,2,3}"
   ]
  },
  {
   "cell_type": "code",
   "execution_count": 38,
   "id": "3e4f7409-5fae-4246-9d98-e6235f8e15e6",
   "metadata": {},
   "outputs": [
    {
     "data": {
      "text/plain": [
       "True"
      ]
     },
     "execution_count": 38,
     "metadata": {},
     "output_type": "execute_result"
    }
   ],
   "source": [
    "s2.issubset(s1)"
   ]
  },
  {
   "cell_type": "code",
   "execution_count": 40,
   "id": "912b3c3c-6147-4f7c-8502-9bec42017f39",
   "metadata": {},
   "outputs": [
    {
     "data": {
      "text/plain": [
       "False"
      ]
     },
     "execution_count": 40,
     "metadata": {},
     "output_type": "execute_result"
    }
   ],
   "source": [
    "s2.issuperset(s1)"
   ]
  },
  {
   "cell_type": "code",
   "execution_count": 50,
   "id": "29628768-94d7-4e2a-99c7-a2c3fc5d30d3",
   "metadata": {},
   "outputs": [],
   "source": [
    "#STRINGS"
   ]
  },
  {
   "cell_type": "code",
   "execution_count": 54,
   "id": "d0459679-542b-4bad-8931-4ba67e17349c",
   "metadata": {},
   "outputs": [
    {
     "name": "stdout",
     "output_type": "stream",
     "text": [
      "welcome to aiml\n",
      "Alpha\n",
      "160\n"
     ]
    }
   ],
   "source": [
    "str1 = \"welcome to aiml\"\n",
    "print(str1)\n",
    "str2 = \"Alpha\"\n",
    "print(str2)\n",
    "str3 = \"160\"\n",
    "print(str3)"
   ]
  },
  {
   "cell_type": "code",
   "execution_count": 56,
   "id": "3c89c1bc-b6ee-4f1d-800d-90ad090f28c5",
   "metadata": {},
   "outputs": [
    {
     "name": "stdout",
     "output_type": "stream",
     "text": [
      "<class 'str'>\n",
      "<class 'str'>\n",
      "<class 'str'>\n"
     ]
    }
   ],
   "source": [
    "print(type(str1))\n",
    "print(type(str2))\n",
    "print(type(str3))"
   ]
  },
  {
   "cell_type": "code",
   "execution_count": 58,
   "id": "b438c137-f6f2-4315-b86f-06dddc9e98a0",
   "metadata": {},
   "outputs": [
    {
     "name": "stdout",
     "output_type": "stream",
     "text": [
      "welcome to aiml\n"
     ]
    },
    {
     "data": {
      "text/plain": [
       "'me to '"
      ]
     },
     "execution_count": 58,
     "metadata": {},
     "output_type": "execute_result"
    }
   ],
   "source": [
    "print(str1)\n",
    "str1[5:11]"
   ]
  },
  {
   "cell_type": "code",
   "execution_count": 60,
   "id": "74bac0b9-ed23-4358-8367-9f8dcc9dc0bf",
   "metadata": {},
   "outputs": [
    {
     "name": "stdout",
     "output_type": "stream",
     "text": [
      "welcome to aiml\n"
     ]
    },
    {
     "data": {
      "text/plain": [
       "['welcome', 'to', 'aiml']"
      ]
     },
     "execution_count": 60,
     "metadata": {},
     "output_type": "execute_result"
    }
   ],
   "source": [
    "print(str1)\n",
    "str1.split()"
   ]
  },
  {
   "cell_type": "code",
   "execution_count": 62,
   "id": "42168007-45ec-4cf9-b827-07b5447aff21",
   "metadata": {},
   "outputs": [
    {
     "data": {
      "text/plain": [
       "'The product is awesome Great service'"
      ]
     },
     "execution_count": 62,
     "metadata": {},
     "output_type": "execute_result"
    }
   ],
   "source": [
    "reviews = [\"The product is awesome\", \"Great service\"]\n",
    "joined_string = ' '.join(reviews)\n",
    "joined_string"
   ]
  },
  {
   "cell_type": "code",
   "execution_count": 64,
   "id": "ad8003fd-3e1e-4efe-864a-34a3620c357c",
   "metadata": {},
   "outputs": [
    {
     "data": {
      "text/plain": [
       "'Hello, how are you?'"
      ]
     },
     "execution_count": 64,
     "metadata": {},
     "output_type": "execute_result"
    }
   ],
   "source": [
    "str5 = \"  Hello, how are you?   \"\n",
    "str5\n",
    "str5.strip()"
   ]
  },
  {
   "cell_type": "code",
   "execution_count": 66,
   "id": "9c3b3b3b-f5fa-4a91-88b6-93170a0bb4a2",
   "metadata": {},
   "outputs": [
    {
     "data": {
      "text/plain": [
       "'  hello, how are you?   '"
      ]
     },
     "execution_count": 66,
     "metadata": {},
     "output_type": "execute_result"
    }
   ],
   "source": [
    "str5.lower()"
   ]
  },
  {
   "cell_type": "code",
   "execution_count": 68,
   "id": "c597c0c7-342a-42e8-8570-45bedc8ec7cf",
   "metadata": {},
   "outputs": [
    {
     "data": {
      "text/plain": [
       "'  HELLO, HOW ARE YOU?   '"
      ]
     },
     "execution_count": 68,
     "metadata": {},
     "output_type": "execute_result"
    }
   ],
   "source": [
    "str5.upper()"
   ]
  },
  {
   "cell_type": "code",
   "execution_count": 80,
   "id": "aebfef20-d42d-43c6-9f94-8d837f938b43",
   "metadata": {},
   "outputs": [],
   "source": [
    "d1 = {\"Ram\":180, \"Shyam\":170, \"Ravi\":160}"
   ]
  },
  {
   "cell_type": "code",
   "execution_count": null,
   "id": "abdf02cb-0d7b-4b4e-a0f3-4346046e6205",
   "metadata": {},
   "outputs": [],
   "source": [
    "for k in d1.keys():\n",
    "    "
   ]
  }
 ],
 "metadata": {
  "kernelspec": {
   "display_name": "Python [conda env:base] *",
   "language": "python",
   "name": "conda-base-py"
  },
  "language_info": {
   "codemirror_mode": {
    "name": "ipython",
    "version": 3
   },
   "file_extension": ".py",
   "mimetype": "text/x-python",
   "name": "python",
   "nbconvert_exporter": "python",
   "pygments_lexer": "ipython3",
   "version": "3.12.7"
  }
 },
 "nbformat": 4,
 "nbformat_minor": 5
}
