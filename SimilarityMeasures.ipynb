{
 "cells": [
  {
   "cell_type": "code",
   "execution_count": 1,
   "id": "40e52294-eb3c-4018-97a1-2a710898a376",
   "metadata": {},
   "outputs": [],
   "source": [
    "import numpy as np\n",
    "from scipy.spatial.distance import cosine, euclidean\n",
    "from scipy.stats import pearsonr"
   ]
  },
  {
   "cell_type": "code",
   "execution_count": 2,
   "id": "e161f357-1df1-4d30-8c2d-31b474c3a0af",
   "metadata": {},
   "outputs": [],
   "source": [
    "user1 = np.array([4,5,2,3,4])\n",
    "user2 = np.array([5,3,2,4,5])"
   ]
  },
  {
   "cell_type": "code",
   "execution_count": 3,
   "id": "89e9727f-317a-4958-8f15-6999b43409ec",
   "metadata": {},
   "outputs": [
    {
     "name": "stdout",
     "output_type": "stream",
     "text": [
      "Cosine Similarity: 0.9548\n"
     ]
    }
   ],
   "source": [
    "cosine_similarity = 1 - cosine(user1, user2)\n",
    "print(f\"Cosine Similarity: {cosine_similarity:.4f}\")"
   ]
  },
  {
   "cell_type": "code",
   "execution_count": 6,
   "id": "eb7f0b27-7de4-4b3e-9c3e-edb47dc58120",
   "metadata": {},
   "outputs": [
    {
     "name": "stdout",
     "output_type": "stream",
     "text": [
      "Pearson Correlation Similarity: 0.4372\n"
     ]
    }
   ],
   "source": [
    "pearson_corr,_= pearsonr(user1,user2)\n",
    "print(f\"Pearson Correlation Similarity: {pearson_corr:.4f}\")"
   ]
  },
  {
   "cell_type": "code",
   "execution_count": 8,
   "id": "c873d504-dfec-4c3e-bbc9-439b8f54ab85",
   "metadata": {},
   "outputs": [
    {
     "name": "stdout",
     "output_type": "stream",
     "text": [
      "Euclidean Distance Similarity: 0.2743\n"
     ]
    }
   ],
   "source": [
    "euclidean_distance = euclidean(user1,user2)\n",
    "euclidean_similarity = 1/(1 + euclidean_distance)\n",
    "print(f\"Euclidean Distance Similarity: {euclidean_similarity:.4f}\")"
   ]
  },
  {
   "cell_type": "code",
   "execution_count": 9,
   "id": "b11acd05-6368-4047-8911-eafadf12dcee",
   "metadata": {},
   "outputs": [],
   "source": [
    "raju = np.array([5,3,4,4,2])\n",
    "john = np.array([3,1,2,3,3])\n",
    "ramya =np.array([4,3,4,5,1])\n",
    "kishore = np.array([2,2,1,2,4])"
   ]
  },
  {
   "cell_type": "code",
   "execution_count": 10,
   "id": "56bde748-7b3b-47e2-9896-0c4d53868fe6",
   "metadata": {},
   "outputs": [
    {
     "name": "stdout",
     "output_type": "stream",
     "text": [
      "Cosine Similarity: 0.9297\n"
     ]
    }
   ],
   "source": [
    "cosine_similarity = 1 - cosine(raju, john)\n",
    "print(f\"Cosine Similarity: {cosine_similarity:.4f}\")"
   ]
  },
  {
   "cell_type": "code",
   "execution_count": 11,
   "id": "35975e0e-ca22-4f00-a183-6b39cc4a2895",
   "metadata": {},
   "outputs": [
    {
     "name": "stdout",
     "output_type": "stream",
     "text": [
      "Cosine Similarity: 0.9783\n"
     ]
    }
   ],
   "source": [
    "cosine_similarity = 1 - cosine(raju, ramya)\n",
    "print(f\"Cosine Similarity: {cosine_similarity:.4f}\")"
   ]
  },
  {
   "cell_type": "code",
   "execution_count": 12,
   "id": "3be7a3b9-e42c-4875-9a7b-cbd136a62c6a",
   "metadata": {},
   "outputs": [
    {
     "name": "stdout",
     "output_type": "stream",
     "text": [
      "Cosine Similarity: 0.7990\n"
     ]
    }
   ],
   "source": [
    "cosine_similarity = 1 - cosine(raju, kishore)\n",
    "print(f\"Cosine Similarity: {cosine_similarity:.4f}\")"
   ]
  },
  {
   "cell_type": "code",
   "execution_count": 13,
   "id": "50c07d8d-7a31-40de-a7c4-c5783d56e8cb",
   "metadata": {},
   "outputs": [
    {
     "name": "stdout",
     "output_type": "stream",
     "text": [
      "Cosine Similarity: 0.8855\n"
     ]
    }
   ],
   "source": [
    "cosine_similarity = 1 - cosine(john, ramya)\n",
    "print(f\"Cosine Similarity: {cosine_similarity:.4f}\")"
   ]
  },
  {
   "cell_type": "code",
   "execution_count": 14,
   "id": "2973cb2e-7efe-405a-bf88-a256ee336238",
   "metadata": {},
   "outputs": [
    {
     "name": "stdout",
     "output_type": "stream",
     "text": [
      "Cosine Similarity: 0.9191\n"
     ]
    }
   ],
   "source": [
    "cosine_similarity = 1 - cosine(john, kishore)\n",
    "print(f\"Cosine Similarity: {cosine_similarity:.4f}\")"
   ]
  },
  {
   "cell_type": "code",
   "execution_count": 15,
   "id": "fd2b584b-b48e-4a83-a4cd-7ebdf456461f",
   "metadata": {},
   "outputs": [
    {
     "name": "stdout",
     "output_type": "stream",
     "text": [
      "Cosine Similarity: 0.7260\n"
     ]
    }
   ],
   "source": [
    "cosine_similarity = 1 - cosine(ramya, kishore)\n",
    "print(f\"Cosine Similarity: {cosine_similarity:.4f}\")"
   ]
  },
  {
   "cell_type": "code",
   "execution_count": null,
   "id": "0443f468-a7bb-41be-96bc-7a08b33c9b97",
   "metadata": {},
   "outputs": [],
   "source": []
  }
 ],
 "metadata": {
  "kernelspec": {
   "display_name": "Python 3 (ipykernel)",
   "language": "python",
   "name": "python3"
  },
  "language_info": {
   "codemirror_mode": {
    "name": "ipython",
    "version": 3
   },
   "file_extension": ".py",
   "mimetype": "text/x-python",
   "name": "python",
   "nbconvert_exporter": "python",
   "pygments_lexer": "ipython3",
   "version": "3.12.7"
  }
 },
 "nbformat": 4,
 "nbformat_minor": 5
}
